{
 "cells": [
  {
   "cell_type": "markdown",
   "metadata": {},
   "source": [
    "## Observations and Insights "
   ]
  },
  {
   "cell_type": "markdown",
   "metadata": {},
   "source": []
  },
  {
   "cell_type": "code",
   "execution_count": 1,
   "metadata": {},
   "outputs": [],
   "source": [
    "%matplotlib notebook"
   ]
  },
  {
   "cell_type": "code",
   "execution_count": null,
   "metadata": {},
   "outputs": [],
   "source": [
    "# Dependencies and Setup\n",
    "import matplotlib.pyplot as plt\n",
    "import numpy as np\n",
    "import pandas as pd\n",
    "import scipy.stats as st\n",
    "\n",
    "\n",
    "# Study data files\n",
    "mouse_metadata_path = \"data/Mouse_metadata.csv\"\n",
    "study_results_path = \"data/Study_results.csv\"\n",
    "\n",
    "# Read the mouse data and the study results\n",
    "mouse_metadata = pd.read_csv(mouse_metadata_path)\n",
    "study_results = pd.read_csv(study_results_path)\n",
    "\n",
    "# Combine the data into a single dataset\n",
    "mergeData_df=pd.merge(mouse_metadata, study_results, on=\"Mouse ID\", how = \"left\")\n",
    "\n",
    "# Display the data table for preview\n",
    "mergeData_df.head()"
   ]
  },
  {
   "cell_type": "code",
   "execution_count": null,
   "metadata": {},
   "outputs": [],
   "source": []
  },
  {
   "cell_type": "code",
   "execution_count": null,
   "metadata": {},
   "outputs": [],
   "source": [
    "# Checking the number of mice.\n",
    "mergeData_df[\"Mouse ID\"].nunique()"
   ]
  },
  {
   "cell_type": "code",
   "execution_count": null,
   "metadata": {},
   "outputs": [],
   "source": [
    "# Getting the duplicate mice by ID number that shows up for Mouse ID and Timepoint. \n",
    "#find_duplicate =mergeData_df.loc[mergeData_df.duplicated(subset=['Mouse ID', 'Timepoint']),['Mouse ID','Timepoint']]\n",
    "find_duplicate = mergeData_df.loc[mergeData_df.duplicated(subset=['Mouse ID', 'Timepoint']),'Mouse ID'].unique()\n",
    "find_duplicate"
   ]
  },
  {
   "cell_type": "code",
   "execution_count": null,
   "metadata": {
    "scrolled": true
   },
   "outputs": [],
   "source": [
    "# Optional: Get all the data for the duplicate mouse ID. \n",
    "iso_dup_mouseId = mergeData_df.loc[mergeData_df[\"Mouse ID\"] == \"g989\"]\n",
    "iso_dup_mouseId"
   ]
  },
  {
   "cell_type": "code",
   "execution_count": null,
   "metadata": {},
   "outputs": [],
   "source": [
    "# Create a clean DataFrame by dropping the duplicate mouse by its ID.\n",
    "cleanmouse_df = mergeData_df[mergeData_df[\"Mouse ID\"].isin(find_duplicate) == False]\n",
    "cleanmouse_df.head()"
   ]
  },
  {
   "cell_type": "code",
   "execution_count": null,
   "metadata": {},
   "outputs": [],
   "source": [
    "# Checking the number of mice in the clean DataFrame.\n",
    "cleanmouse_df[\"Mouse ID\"].nunique()"
   ]
  },
  {
   "cell_type": "markdown",
   "metadata": {},
   "source": [
    "## Summary Statistics"
   ]
  },
  {
   "cell_type": "code",
   "execution_count": null,
   "metadata": {
    "scrolled": true
   },
   "outputs": [],
   "source": [
    "# Generate a summary statistics table of mean, median, variance, standard deviation, and SEM of the tumor volume for each regimen\n",
    "meandata = cleanmouse_df.groupby(\"Drug Regimen\").mean()[\"Tumor Volume (mm3)\"]\n",
    "mediandata = cleanmouse_df.groupby(\"Drug Regimen\").median()[\"Tumor Volume (mm3)\"]\n",
    "vardata = cleanmouse_df.groupby(\"Drug Regimen\").var()[\"Tumor Volume (mm3)\"]\n",
    "stddata= cleanmouse_df.groupby(\"Drug Regimen\").std()[\"Tumor Volume (mm3)\"]\n",
    "semdata= cleanmouse_df.groupby(\"Drug Regimen\").sem()[\"Tumor Volume (mm3)\"]\n",
    "# This method is the most straighforward, creating multiple series and putting them all together at the end.\n",
    "TumVolSum_df = pd.DataFrame({\"Tumor Volume Mean\": meandata,\n",
    "                           \"Tumor Volume Median\": mediandata,\n",
    "                           \"Tumor Volume Variance\": vardata,\n",
    "                           \"Tumor Volume STDEV\": stddata,\n",
    "                           \"Tumor Volume SEM\": semdata })\n",
    "TumVolSum_df"
   ]
  },
  {
   "cell_type": "code",
   "execution_count": null,
   "metadata": {},
   "outputs": [],
   "source": [
    "# Generate a summary statistics table of mean, median, variance, standard deviation, and SEM of the tumor volume for each regimen\n",
    "# This method produces everything in a single groupby function\n",
    "summary1_df = cleanmouse_df.groupby(\"Drug Regimen\").agg({\"Tumor Volume (mm3)\":[\"mean\",\"median\",\"var\",\"std\",\"sem\"]})\n",
    "summary1_df\n",
    "\n"
   ]
  },
  {
   "cell_type": "markdown",
   "metadata": {},
   "source": [
    "## Bar and Pie Charts"
   ]
  },
  {
   "cell_type": "code",
   "execution_count": null,
   "metadata": {},
   "outputs": [],
   "source": [
    "# Generate a bar plot showing the total number of mice for each treatment throughout the course of the study using pandas. \n",
    "miceOndrugs = cleanmouse_df.groupby(\"Drug Regimen\")\n",
    "# Create a dataframe counting the number of data points for each Drug Regimen\n",
    "drugscount_df = pd.DataFrame(miceOndrugs[\"Mouse ID\"].count())\n",
    "drugscount_df = drugscount_df.rename(columns ={\"Mouse ID\": \"Mice\"})\n",
    "drugscount_df = drugscount_df.sort_values(\"Mice\",ascending=False)"
   ]
  },
  {
   "cell_type": "code",
   "execution_count": null,
   "metadata": {},
   "outputs": [],
   "source": [
    "# Generate a bar plot showing the total number of mice for each treatment throughout the course of the study using pandas. \n",
    "drugsbarplot = drugscount_df.plot(kind='bar', title = \"Mice on Drug Regimen/Treatment\", color=\"salmon\", figsize=(10,5))\n",
    "#Set xlabel/ylabel\n",
    "drugsbarplot.set_xlabel(\"Treatment\")\n",
    "drugsbarplot.set_ylabel(\"Count\")\n",
    "#Layout\n",
    "plt.show()\n",
    "plt.tight_layout()"
   ]
  },
  {
   "cell_type": "code",
   "execution_count": null,
   "metadata": {},
   "outputs": [],
   "source": [
    "forpyplot = drugscount_df.reset_index(\"Drug Regimen\")\n",
    "forpyplot"
   ]
  },
  {
   "cell_type": "code",
   "execution_count": null,
   "metadata": {},
   "outputs": [],
   "source": [
    "# Generate a bar plot showing the total number of mice for each treatment throughout the course of the study using pyplot.\n",
    "\n",
    "#Create a handle/variable because passing dataframe columnn wasnt working like in avg_state_rain activity\n",
    "mice_counts = forpyplot[\"Mice\"]\n",
    "\n",
    "#Set the x_axis and tick locations \n",
    "x_axis = np.arange(len(forpyplot))\n",
    "tick_locations = [value for value in x_axis]\n",
    "\n",
    "\n",
    "#Set size of bar chart and xticks and color see example from avg_state_rain activity\n",
    "plt.figure(figsize=(10,5))\n",
    "plt.bar(x_axis, mice_counts, alpha=0.5, align=\"center\", color='salmon')\n",
    "plt.xticks(tick_locations, forpyplot[\"Drug Regimen\"], rotation=45)\n",
    "\n",
    "#Set xlim/ylim\n",
    "plt.xlim(-0.75, len(x_axis)-0.30)\n",
    "plt.ylim(0, max(mice_counts)+10)\n",
    "\n",
    "#Legend\n",
    "plt.legend([\"Mice\"])\n",
    "\n",
    "#Set title, xlabel and ylabel\n",
    "plt.title(\"Mice on Drug Regimen/Treatment\")\n",
    "plt.xlabel(\"Treatment\")\n",
    "plt.ylabel(\"Mice Count\")\n",
    "\n"
   ]
  },
  {
   "cell_type": "code",
   "execution_count": null,
   "metadata": {},
   "outputs": [],
   "source": [
    "# Group genders to show the distribution of female versus male mice using pandas\n",
    "# Refenece https://kontext.tech/column/code-snippets/402/pandas-dataframe-plot-pie-chart\n",
    "Fem_Male_groupby = cleanmouse_df.groupby(\"Sex\")\n",
    "Fem_vs_Male= Fem_Male_groupby[\"Sex\"].count()\n",
    "#PieChart=cleanmouse_df.groupby(['Sex']).sum().plot(kind='pie', y='Sex', shadow = True)\n",
    "explode = (0.075, 0)\n",
    "fMchart = Fem_vs_Male.plot(kind='pie', y='Sex', title=\"Female Vs. Male Mice\",\\\n",
    "                           autopct='%1.1f%%',shadow=True, startangle=90, explode = explode,\\\n",
    "                           fontsize=12, colors =[\"coral\",\"teal\"],legend =False)\n",
    "\n",
    "plt.axis(\"equal\")\n",
    "plt.show()\n",
    "\n"
   ]
  },
  {
   "cell_type": "code",
   "execution_count": null,
   "metadata": {},
   "outputs": [],
   "source": [
    "# Generate a pie plot showing the distribution of female versus male mice using pyplot\n",
    "\n",
    "#Explode\n",
    "explode = (0.075, 0)\n",
    "\n",
    "#Labels \n",
    "labels = [\"Female\",\"Male\"]\n",
    "\n",
    "#List of sizes\n",
    "sizes = [49.0,51.0]\n",
    "\n",
    "#Colors\n",
    "colors = ['coral','teal']\n",
    "\n",
    "#plt.pie values \n",
    "plt.pie(sizes, explode=explode, labels=labels, colors=colors, autopct=\"%1.1f%%\", shadow=True, startangle=90)\n",
    "\n",
    "#Title\n",
    "plt.title(\"Female Vs. Male Mice\")\n",
    "\n",
    "#Make axis equal\n",
    "plt.axis(\"Equal\")\n"
   ]
  },
  {
   "cell_type": "markdown",
   "metadata": {},
   "source": [
    "## Quartiles, Outliers and Boxplots"
   ]
  },
  {
   "cell_type": "code",
   "execution_count": null,
   "metadata": {},
   "outputs": [],
   "source": [
    "cleanmouse_df"
   ]
  },
  {
   "cell_type": "code",
   "execution_count": null,
   "metadata": {},
   "outputs": [],
   "source": [
    "# Calculate the final tumor volume of each mouse across four of the treatment regimens:\n",
    "# Start by getting the last (greatest) timepoint for each mouse\n",
    "max_timepoint = cleanmouse_df.groupby([\"Mouse ID\"]).max()\n",
    "max_timepoint = max_timepoint.reset_index() \n",
    "max_timepoint"
   ]
  },
  {
   "cell_type": "code",
   "execution_count": null,
   "metadata": {},
   "outputs": [],
   "source": [
    "# Merge this group df with the original dataframe to get the tumor volume at the last timepoint\n",
    "combined_maxTP_df = max_timepoint[[\"Mouse ID\",\"Timepoint\"]].merge(cleanmouse_df, on=[\"Mouse ID\",\"Timepoint\"], how ='left' )\n",
    "combined_maxTP_df"
   ]
  },
  {
   "cell_type": "code",
   "execution_count": null,
   "metadata": {},
   "outputs": [],
   "source": [
    "# Calculate the final tumor volume of each mouse across four of the treatment regimens: \n",
    "# Capomulin, Ramicane, Infubinol, and Ceftamin\n",
    "Drug1 = combined_maxTP_df.loc[combined_maxTP_df[\"Drug Regimen\"]==\"Capomulin\"][\"Tumor Volume (mm3)\"]\n",
    "Drug2 = combined_maxTP_df.loc[combined_maxTP_df[\"Drug Regimen\"]==\"Ramicane\"][\"Tumor Volume (mm3)\"]\n",
    "Drug3 = combined_maxTP_df.loc[combined_maxTP_df[\"Drug Regimen\"]==\"Infubinol\"][\"Tumor Volume (mm3)\"]\n",
    "Drug4 = combined_maxTP_df.loc[combined_maxTP_df[\"Drug Regimen\"]==\"Ceftamin\"][\"Tumor Volume (mm3)\"]\n",
    "\n"
   ]
  },
  {
   "cell_type": "code",
   "execution_count": null,
   "metadata": {},
   "outputs": [],
   "source": [
    "# Put treatments into a list for for loop (and later for plot labels)\n",
    "List1 = [\"Capomulin\", \"Ramicane\", \"Infubinol\", \"Ceftamin\"]\n",
    "# Create empty list to fill with tumor vol data (for plotting)\n",
    "tumor_list =[]\n",
    "\n",
    "for x in List1:\n",
    "#Locate the rows which contain mice on each drug and get the tumor volumes\n",
    "    drugData = combined_maxTP_df.loc[combined_maxTP_df[\"Drug Regimen\"]== x][\"Tumor Volume (mm3)\"]\n",
    "    tumor_list.append(drugData)\n",
    "    \n",
    "    quartiles = drugData.quantile([.25,.5,.75])\n",
    "    lowerq = quartiles[0.25]\n",
    "    upperq = quartiles[0.75]\n",
    "    \n",
    "# Calculate the IQR and quantitatively determine if there are any potential outliers. \n",
    "    iqr = upperq-lowerq\n",
    "    lower_bound = lowerq - (1.5*iqr)\n",
    "    upper_bound = upperq + (1.5*iqr)\n",
    "    \n",
    "# Determine outliers using upper and lower bounds    \n",
    "    print(f\"{x} potential outliers: {drugData.loc[(drugData < lower_bound) | (drugData > upper_bound)]}\")\n",
    "\n",
    "    \n",
    "    \n",
    "  \n",
    "    "
   ]
  },
  {
   "cell_type": "code",
   "execution_count": null,
   "metadata": {},
   "outputs": [],
   "source": [
    "# Generate a box plot of the final tumor volume of each mouse across four regimens of interest\n",
    "plt.boxplot(tumor_list, labels = List1)"
   ]
  },
  {
   "cell_type": "markdown",
   "metadata": {},
   "source": [
    "## Line and Scatter Plots"
   ]
  },
  {
   "cell_type": "code",
   "execution_count": null,
   "metadata": {},
   "outputs": [],
   "source": [
    "mouse_C_drug = combined_maxTP_df.loc[combined_maxTP_df[\"Drug Regimen\"]==\"Capomulin\",:]\n",
    "mouse_C_drug"
   ]
  },
  {
   "cell_type": "code",
   "execution_count": null,
   "metadata": {},
   "outputs": [],
   "source": [
    "# Generate a line plot of time point versus tumor volume for a mouse treated with Capomulin\n",
    "one_mouse = mergeData_df[mergeData_df[\"Mouse ID\"].isin([\"j119\"])]\n",
    "one_mouse_cols = one_mouse[[\"Mouse ID\", \"Timepoint\", \"Tumor Volume (mm3)\"]]\n",
    "one_mouse_cols = one_mouse_cols.reset_index()\n",
    "one_mouse_cols_reset = one_mouse_cols[[\"Mouse ID\", \"Timepoint\", \"Tumor Volume (mm3)\"]]\n",
    "Mouseplot = one_mouse_cols_reset.plot.line()\n"
   ]
  },
  {
   "cell_type": "code",
   "execution_count": null,
   "metadata": {},
   "outputs": [],
   "source": [
    "# Generate a scatter plot of mouse weight versus average tumor volume for the Capomulin regimen\n"
   ]
  },
  {
   "cell_type": "markdown",
   "metadata": {},
   "source": [
    "## Correlation and Regression"
   ]
  },
  {
   "cell_type": "code",
   "execution_count": null,
   "metadata": {},
   "outputs": [],
   "source": [
    "# Calculate the correlation coefficient and linear regression model \n",
    "# for mouse weight and average tumor volume for the Capomulin regimen\n"
   ]
  }
 ],
 "metadata": {
  "anaconda-cloud": {},
  "kernelspec": {
   "display_name": "Python 3",
   "language": "python",
   "name": "python3"
  },
  "language_info": {
   "codemirror_mode": {
    "name": "ipython",
    "version": 3
   },
   "file_extension": ".py",
   "mimetype": "text/x-python",
   "name": "python",
   "nbconvert_exporter": "python",
   "pygments_lexer": "ipython3",
   "version": "3.7.6"
  }
 },
 "nbformat": 4,
 "nbformat_minor": 2
}
